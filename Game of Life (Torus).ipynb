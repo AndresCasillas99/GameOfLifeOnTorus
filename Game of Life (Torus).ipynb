{
 "cells": [
  {
   "cell_type": "code",
   "execution_count": 1,
   "id": "chinese-headset",
   "metadata": {},
   "outputs": [],
   "source": [
    "using Luxor"
   ]
  },
  {
   "cell_type": "code",
   "execution_count": 2,
   "id": "electrical-chemical",
   "metadata": {},
   "outputs": [],
   "source": [
    "using GLMakie, FileIO, Colors, GeometryTypes"
   ]
  },
  {
   "cell_type": "markdown",
   "id": "basic-carpet",
   "metadata": {},
   "source": [
    "# Funciones para crear nuevas matrices"
   ]
  },
  {
   "cell_type": "code",
   "execution_count": 5,
   "id": "subsequent-configuration",
   "metadata": {},
   "outputs": [
    {
     "data": {
      "text/plain": [
       "reflejar_eje_x (generic function with 1 method)"
      ]
     },
     "execution_count": 5,
     "metadata": {},
     "output_type": "execute_result"
    }
   ],
   "source": [
    "\n",
    "function reflejar_eje_x(A)\n",
    "    \n",
    "    k = size(A)[1]\n",
    "    l = size(A)[2]\n",
    "    \n",
    "    B = zeros(Int8, (k,l))\n",
    "    \n",
    "    for i ∈ 1:l, j ∈ 1:k\n",
    "        \n",
    "        B[k + 1 - j, i ] = A[j,i]\n",
    "        \n",
    "    end\n",
    "        return B\n",
    "end"
   ]
  },
  {
   "cell_type": "code",
   "execution_count": 6,
   "id": "existing-integrity",
   "metadata": {},
   "outputs": [
    {
     "data": {
      "text/plain": [
       "reflejar_eje_y (generic function with 1 method)"
      ]
     },
     "execution_count": 6,
     "metadata": {},
     "output_type": "execute_result"
    }
   ],
   "source": [
    "function reflejar_eje_y(A)\n",
    "    \n",
    "    k = size(A)[1]\n",
    "    l = size(A)[2]\n",
    "    \n",
    "    B = zeros(Int8, (k,l))\n",
    "    \n",
    "    for i ∈ 1:l, j ∈ 1:k\n",
    "        \n",
    "        B[j, l + 1 - i ] = A[j,i]\n",
    "        \n",
    "    end\n",
    "        return B\n",
    "end"
   ]
  },
  {
   "cell_type": "code",
   "execution_count": 7,
   "id": "acquired-paragraph",
   "metadata": {},
   "outputs": [
    {
     "data": {
      "text/plain": [
       "reflejar_origen (generic function with 1 method)"
      ]
     },
     "execution_count": 7,
     "metadata": {},
     "output_type": "execute_result"
    }
   ],
   "source": [
    "function reflejar_origen(A)\n",
    "    \n",
    "    k = size(A)[1]\n",
    "    l = size(A)[2]\n",
    "    \n",
    "    B = zeros(Int8, (k,l))\n",
    "    \n",
    "    for i ∈ 1:l, j ∈ 1:k\n",
    "        \n",
    "        B[k + 1 - j, l + 1 - i ] = A[j,i]\n",
    "        \n",
    "    end\n",
    "        return B\n",
    "end"
   ]
  },
  {
   "cell_type": "code",
   "execution_count": 40,
   "id": "federal-process",
   "metadata": {},
   "outputs": [
    {
     "data": {
      "text/plain": [
       "trasladar_abajo (generic function with 1 method)"
      ]
     },
     "execution_count": 40,
     "metadata": {},
     "output_type": "execute_result"
    }
   ],
   "source": [
    "function trasladar_abajo(A, n)\n",
    "    \n",
    "    k = size(A)[1]\n",
    "    l = size(A)[2]\n",
    "    \n",
    "    B = zeros(Int8, (k,l))\n",
    "    \n",
    "    for i ∈ 1:l, j ∈ 1:(k - n)\n",
    "\n",
    "        B[j + n, i] = A[j, i]\n",
    "    end\n",
    "    return B\n",
    "    \n",
    "end\n"
   ]
  },
  {
   "cell_type": "code",
   "execution_count": 41,
   "id": "revised-rescue",
   "metadata": {},
   "outputs": [
    {
     "data": {
      "text/plain": [
       "trasladar_derecha (generic function with 1 method)"
      ]
     },
     "execution_count": 41,
     "metadata": {},
     "output_type": "execute_result"
    }
   ],
   "source": [
    "function trasladar_derecha(A,n)\n",
    "    \n",
    "    k = size(A)[1]\n",
    "    l = size(A)[2]\n",
    "    \n",
    "    B = zeros(Int8, (k,l))\n",
    "    \n",
    "    for i ∈ 1:(l - n), j ∈ 1:k\n",
    "\n",
    "        B[j, i + n] = A[j, i]\n",
    "    end\n",
    "    return B\n",
    "end"
   ]
  },
  {
   "cell_type": "code",
   "execution_count": 10,
   "id": "changed-surface",
   "metadata": {},
   "outputs": [
    {
     "data": {
      "text/plain": [
       "ampliar (generic function with 1 method)"
      ]
     },
     "execution_count": 10,
     "metadata": {},
     "output_type": "execute_result"
    }
   ],
   "source": [
    "\n",
    "\n",
    "function ampliar(A, n)\n",
    "    \n",
    "    k = size(A)[1]\n",
    "    l = size(A)[2]\n",
    "    \n",
    "    B = zeros(Int8, (n,n))\n",
    "    \n",
    "    [B[j,i] = A[j,i] for i ∈ 1:l, j ∈ 1:k]\n",
    "    \n",
    "    return B\n",
    "end\n",
    "\n"
   ]
  },
  {
   "cell_type": "markdown",
   "id": "generous-zoning",
   "metadata": {},
   "source": [
    "# Experimentos "
   ]
  },
  {
   "cell_type": "code",
   "execution_count": 11,
   "id": "leading-proof",
   "metadata": {},
   "outputs": [
    {
     "ename": "LoadError",
     "evalue": "\u001b[91mUndefVarError: dibujar_matriz not defined\u001b[39m",
     "output_type": "error",
     "traceback": [
      "\u001b[91mUndefVarError: dibujar_matriz not defined\u001b[39m",
      "",
      "Stacktrace:",
      " [1] top-level scope at C:\\Users\\progr\\.julia\\packages\\Luxor\\9MSsJ\\src\\drawings.jl:600",
      " [2] include_string(::Function, ::Module, ::String, ::String) at .\\loading.jl:1091"
     ]
    }
   ],
   "source": [
    "#Glider\n",
    "G = zeros(Int8, (50,50)) #Matriz de ceros\n",
    "\n",
    "G[(4), (2):(4)] .= 1\n",
    "G[(3), (4)] = 1\n",
    "G[(2), (3)] = 1\n",
    "\n",
    "G[9, 6:8] .= 1\n",
    "G[8, 8] = 1\n",
    "G[7, 7] = 1\n",
    "\n",
    "G[14, 10:12] .= 1\n",
    "G[13, 12] = 1\n",
    "G[12, 11] = 1\n",
    "\n",
    "G[19, 14:16] .= 1\n",
    "G[18, 16] = 1\n",
    "G[17, 15] = 1\n",
    "\n",
    "G = trasladar_derecha(trasladar_abajo(G, 15), 5)\n",
    "@draw dibujar_matriz(G, 1, 1, 1)"
   ]
  },
  {
   "cell_type": "markdown",
   "id": "common-stack",
   "metadata": {},
   "source": [
    "## Matriz aleatoria"
   ]
  },
  {
   "cell_type": "code",
   "execution_count": 12,
   "id": "mechanical-ballot",
   "metadata": {},
   "outputs": [
    {
     "ename": "LoadError",
     "evalue": "LoadError: \u001b[91mUndefVarError: @draw not defined\u001b[39m\nin expression starting at In[12]:7",
     "output_type": "error",
     "traceback": [
      "LoadError: \u001b[91mUndefVarError: @draw not defined\u001b[39m\nin expression starting at In[12]:7",
      "",
      "Stacktrace:",
      " [1] top-level scope",
      " [2] include_string(::Function, ::Module, ::String, ::String) at .\\loading.jl:1091"
     ]
    }
   ],
   "source": [
    "Mrand = zeros(Int8, (100,100))\n",
    "for i ∈ 1:size(Mrand)[2], j ∈ 1:size(Mrand)[1]\n",
    "    r = rand(0:1)\n",
    "    Mrand[j,i] = r\n",
    "end\n",
    "\n",
    "@draw dibujar_matriz(Mrand, 1,1,0)"
   ]
  },
  {
   "cell_type": "markdown",
   "id": "continent-globe",
   "metadata": {},
   "source": [
    "## Glider cannon"
   ]
  },
  {
   "cell_type": "code",
   "execution_count": 31,
   "id": "regulated-basin",
   "metadata": {
    "scrolled": true
   },
   "outputs": [],
   "source": [
    "#Glider Cannon\n",
    "\n",
    "C = zeros(Int8, (50,50))\n",
    "C[6:7, 3:4] .= 1\n",
    "C[6:8, 13] .= 1\n",
    "C[5, 14] = 1\n",
    "C[9, 14] = 1\n",
    "C[10, 15:16] .= 1\n",
    "C[4, 15:16] .= 1\n",
    "C[7, 17] = 1\n",
    "C[5, 18] = 1\n",
    "C[9, 18] = 1\n",
    "C[6:8, 19] .= 1\n",
    "C[7, 20] = 1\n",
    "C[4:6, 23:24] .= 1\n",
    "C[3, 25] = 1\n",
    "C[7, 25] = 1\n",
    "C[7:8, 27] .= 1\n",
    "C[2:3, 27] .= 1\n",
    "C[4:5, 37:38] .=1\n",
    "\n",
    "C = trasladar_abajo(C, 35)\n",
    ";\n",
    "#@draw dibujar_matriz(C, 1, 1, 1)"
   ]
  },
  {
   "cell_type": "code",
   "execution_count": 102,
   "id": "peripheral-tunisia",
   "metadata": {},
   "outputs": [],
   "source": [
    "C1 = reflejar_origen(C)\n",
    "C2 = trasladar_abajo(C, 0) + C1\n",
    ";\n",
    "#@draw dibujar_matriz(C2, 1, 1, 1)"
   ]
  },
  {
   "cell_type": "markdown",
   "id": "matched-moses",
   "metadata": {},
   "source": [
    "## Puffer train"
   ]
  },
  {
   "cell_type": "code",
   "execution_count": 25,
   "id": "matched-fight",
   "metadata": {
    "scrolled": true
   },
   "outputs": [],
   "source": [
    "PT = zeros(Int8, (156,156))\n",
    "PT[1,19] = 1\n",
    "PT[2, 19:22] .= 1\n",
    "PT[3, 6] = PT[3, 8] = PT[3, 21] = PT[3, 22] = 1\n",
    "PT[4, 6] = PT[4, 9] = PT[4, 24] = 1\n",
    "PT[5, 9:10] .= 1\n",
    "PT[5, 21:24] .= 1\n",
    "PT[6, 11] = PT[6, 25] = 1\n",
    "PT[7, 9:12] .= 1\n",
    "PT[7, 21] = 1\n",
    "PT[7, 24:26] .= 1\n",
    "PT[8,8] = 1\n",
    "PT[8, 13] = 1\n",
    "PT[8, 23:25] .= 1\n",
    "PT[9, 10] = PT[9, 13] = PT[9, 24] = 1\n",
    "PT[10, 10] = PT[10, 13] = 1\n",
    "PT[10, 19] = 1\n",
    "PT[10, 21:23] .= 1\n",
    "PT[11, 12] = 1\n",
    "PT[11, 19:20] .= 1\n",
    "PT[11, 23] = 1\n",
    "PT[12, 6] = 1\n",
    "PT[12, 8:11] .= 1\n",
    "PT[12, 20:22] .= 1\n",
    "PT[13, 6] = 1\n",
    "PT[13, 10] = 1\n",
    "PT[13, 20] = 1\n",
    "PT[14, 9] = PT[14, 22] = 1\n",
    "PT[15, 7] = PT[15, 9] = PT[15, 20] = PT[15, 22] = 1\n",
    "PT[16, 23] = 1\n",
    "PT[17, 8:10] .= 1\n",
    "PT[17, 20] = 1\n",
    "PT[17, 22] = 1\n",
    "PT[18, 9:10] .= 1\n",
    "PT[18, 22] = 1\n",
    "PT[19, 8:10] .= 1\n",
    "PT[19, 20] = 1\n",
    "PT[20, 20:22] .= 1\n",
    "PT[21, 7] = PT[21, 9] = 1\n",
    "PT[21, 19:20] .= 1\n",
    "PT[21, 23] = 1\n",
    "PT[22, 9] = PT[22, 19] = 1\n",
    "PT[22, 21:23] .= 1\n",
    "PT[23, 6] = PT[23, 10] = PT[23, 24] = 1\n",
    "PT[24, 6] = 1\n",
    "PT[24, 8:11] .= 1\n",
    "PT[24, 23:25] .= 1\n",
    "PT[25, 12] = PT[25, 21] = 1\n",
    "PT[25, 24:26] .= 1\n",
    "PT[26, 10] = PT[26, 13] = PT[26, 25] = 1\n",
    "PT[27, 10] = PT[27, 13] = 1\n",
    "PT[27, 21:24] .= 1\n",
    "PT[28, 8] = PT[28, 13] = PT[28, 24] = 1\n",
    "PT[29, 9:12] .= 1\n",
    "PT[29, 21:22] .= 1\n",
    "PT[30, 11] = 1\n",
    "PT[30, 19:22] .= 1\n",
    "PT[30, 25] = PT[30, 27] = 1\n",
    "PT[31, 9:10] .= 1\n",
    "PT[31, 19] = PT[31, 25] = PT[31, 28] = 1\n",
    "PT[32, 6] = PT[32, 9] = PT[32, 17] = PT[32, 19] = 1\n",
    "PT[32, 28:29] .= 1\n",
    "PT[33, 6] = PT[33, 8] = PT[33, 17] = PT[33, 30] = 1\n",
    "PT[34, 15] = 1\n",
    "PT[34, 18:19] .= 1\n",
    "PT[34, 28:31] .= 1\n",
    "PT[35, 3:4] .= 1\n",
    "PT[35, 6] = 1\n",
    "PT[35, 16:18] .= 1\n",
    "PT[35, 27] = 1\n",
    "PT[35, 32] = 1\n",
    "PT[36, 6] = PT[36, 14] = PT[36, 16] = PT[36, 29] = PT[36, 32] = 1\n",
    "PT[37, 3] = 1\n",
    "PT[37, 5:6] .= 1\n",
    "PT[37, 14] = PT[37, 29] = PT[37,32] = 1\n",
    "PT[38, 3] = 1\n",
    "PT[38, 13:14] .= 1\n",
    "PT[38, 31] = 1\n",
    "PT[39, 1] = PT[39, 9] = 1\n",
    "PT[39, 11:13] .= 1\n",
    "PT[39, 25] = 1\n",
    "PT[39, 27:30] .= 1\n",
    "\n",
    "#Franja vertical de la izquierda\n",
    "\n",
    "PT[40:117, 2] .= 1\n",
    "\n",
    "#Regresamos al llenado por renglones\n",
    "\n",
    "PT[40, 8] = 1\n",
    "PT[40, 10:11] .= 1\n",
    "PT[40, 25] = PT[40, 29] = 1\n",
    "PT[41, 8:9] .= 1\n",
    "PT[41, 28] = 1\n",
    "PT[42, 4] = 1\n",
    "PT[42, 7:8] .= 1\n",
    "PT[42, 26] = PT[42, 28] = 1\n",
    "PT[43, 4] = 1\n",
    "PT[43, 6:7] .= 1\n",
    "PT[44, 27:29] .= 1\n",
    "PT[45, 4] = 1\n",
    "PT[45, 6:7] .= 1\n",
    "PT[45, 28:29] .= 1\n",
    "PT[46, 4] = 1\n",
    "PT[46, 7:8] .= 1\n",
    "PT[46, 14] = PT[46, 16] = PT[46, 21] = PT[46, 23] = 1\n",
    "PT[46, 28:29] .= 1\n",
    "PT[47, 8:9] .= 1\n",
    "PT[47, 11:12] .= 1\n",
    "PT[47, 14] = PT[47, 17] = PT[47, 20] = PT[47, 23] = 1\n",
    "PT[47, 25:29] .= 1\n",
    "PT[48, 8:9] .= 1\n",
    "PT[48, 17:18] .= 1\n",
    "PT[48, 22] = PT[48, 27] = 1\n",
    "PT[49, 4] = 1\n",
    "PT[49, 7:8] .= 1\n",
    "PT[49, 14] = PT[49, 21] = PT[49, 29] = 1\n",
    "PT[50, 4] = 1\n",
    "PT[50, 6:7] .= 1\n",
    "PT[50, 14] = 1\n",
    "PT[50, 16:20] .= 1\n",
    "PT[50, 27] = PT[50, 29] = 1\n",
    "PT[51, 11:12] .= 1\n",
    "PT[51, 30] = 1\n",
    "PT[52, 4] = 1\n",
    "PT[52, 6:7] .= 1\n",
    "PT[52, 14] = 1\n",
    "PT[52, 16:20] .= 1\n",
    "PT[52, 27] = PT[52, 29] = 1\n",
    "PT[53, 4] = 1\n",
    "PT[53, 4] = 1\n",
    "PT[53, 7:8] .= 1\n",
    "PT[53, 14] = 1\n",
    "PT[53, 21] = 1\n",
    "PT[53, 29] = 1\n",
    "PT[54, 8:9] .= 1\n",
    "PT[54, 17:18] .= 1\n",
    "PT[54, 22] = PT[54, 27] = 1\n",
    "PT[55, 8:9] .= 1\n",
    "PT[55, 11:12] .= 1\n",
    "PT[55, 14] = PT[55, 17] = PT[55, 20] = PT[55, 23] = 1\n",
    "PT[55, 25:29] .= 1\n",
    "PT[56, 4] = 1\n",
    "PT[56, 7:8] .= 1\n",
    "PT[56, 14] = PT[56, 16] = PT[56, 21] = PT[56, 23] = 1\n",
    "PT[56, 28:29] .= 1\n",
    "PT[57, 4] = 1\n",
    "PT[57, 6:7] .= 1\n",
    "PT[57, 28:29] .= 1\n",
    "PT[58, 27:29] .= 1\n",
    "PT[59, 4] = 1\n",
    "PT[59, 6:7] .= 1\n",
    "PT[60, 4] = 1\n",
    "PT[60, 7:8] .= 1\n",
    "PT[60, 26] = PT[60, 28] = 1\n",
    "PT[61, 8:9] .= 1\n",
    "PT[61, 28] = 1\n",
    "PT[62, 4] = PT[62, 7] = 1\n",
    "PT[62, 9:10] .= 1\n",
    "PT[62, 25] = PT[62, 29] = 1\n",
    "PT[63, 4] = 1\n",
    "PT[63, 6:8] .=1 \n",
    "PT[63, 11] = PT[63, 25] = 1\n",
    "PT[63, 27:30] .= 1\n",
    "PT[64, 11] = PT[64, 31] = 1\n",
    "PT[65, 4] = 1\n",
    "PT[65, 6:8] .= 1\n",
    "PT[65, 11] = PT[65, 29] = PT[65, 32] = 1\n",
    "PT[66, 4] = PT[66, 7] = 1\n",
    "PT[66, 9:10] .= 1\n",
    "PT[66, 29] = PT[66, 32] = 1\n",
    "PT[67, 8:9] .= 1\n",
    "PT[67, 27] = PT[67, 32] = 1\n",
    "PT[68, 4] = 1\n",
    "PT[68, 7:8] .= 1\n",
    "PT[68, 28:31] .= 1\n",
    "PT[69, 4] = 1\n",
    "PT[69, 6:7] .= 1\n",
    "PT[69, 30] = 1\n",
    "PT[70, 28:29] .= 1\n",
    "PT[71, 4] = 1\n",
    "PT[71, 6:7] .= 1\n",
    "PT[71, 25] = PT[71, 28] = 1\n",
    "PT[72, 4] = 1\n",
    "PT[72, 7:8] .= 1\n",
    "PT[72, 25] = PT[72, 27] = 1\n",
    "PT[73, 8:9] .= 1\n",
    "PT[74, 4] = PT[74, 7] = 1\n",
    "PT[74, 9:10] .= 1\n",
    "PT[75, 4] = 1\n",
    "PT[75, 6:8] .= 1\n",
    "PT[75, 11] = 1\n",
    "PT[76, 11] = PT[76, 25] = PT[76, 27] = 1\n",
    "PT[77, 4] = 1\n",
    "PT[77, 6:8] .= 1\n",
    "PT[77, 11] = PT[77, 25] = PT[77, 28] = 1\n",
    "PT[78, 4] = PT[78, 7] = 1\n",
    "PT[78, 9:10] .= 1\n",
    "PT[78, 28:29] .= 1\n",
    "PT[79, 8:9] .= 1\n",
    "PT[79, 30] = 1\n",
    "PT[80, 4] = 1\n",
    "PT[80, 7:8] .= 1\n",
    "PT[80, 28:31] .= 1\n",
    "PT[81, 4] = 1\n",
    "PT[81, 6:7] .= 1\n",
    "PT[81, 27] = PT[81, 32] = 1\n",
    "PT[82, 29] = PT[82, 32] = 1\n",
    "PT[83, 4] = 1\n",
    "PT[83, 6:7] .= 1\n",
    "PT[83, 29] = PT[83, 32] = 1\n",
    "PT[84, 4] = 1\n",
    "PT[84, 7:8] .= 1\n",
    "PT[84, 31] = 1\n",
    "PT[85, 8:9] .= 1\n",
    "PT[85, 25] = 1\n",
    "PT[85, 27:30] .= 1\n",
    "PT[86, 4] = PT[86, 7] = 1\n",
    "PT[86, 9:10] .= 1\n",
    "PT[86, 25] = 1\n",
    "PT[86, 29] = 1\n",
    "PT[87, 4] = 1\n",
    "PT[87, 6:8] .= 1\n",
    "PT[87, 11] = 1\n",
    "PT[87, 28] = 1\n",
    "PT[88, 11] = PT[88, 26] = PT[88, 28] = 1\n",
    "PT[89, 4] = 1\n",
    "PT[89, 6:8] .= 1\n",
    "PT[89, 11] = 1\n",
    "PT[90, 4] = PT[90, 7] = 1\n",
    "PT[90, 9:10] .= 1\n",
    "PT[90, 27:29] .= 1\n",
    "PT[91, 8:9] .= 1\n",
    "PT[91, 28:29] .= 1\n",
    "PT[92, 4] = 1\n",
    "PT[92, 7:8] .= 1\n",
    "PT[92, 14] = PT[92, 16] = PT[92, 21] = PT[92, 23] = 1\n",
    "PT[92, 28:29] .= 1\n",
    "PT[93, 4] = 1\n",
    "PT[93, 6:7] .= 1\n",
    "PT[93, 11:12] .= 1\n",
    "PT[93, 14] = 1\n",
    "PT[93, 17] = PT[93, 20] = PT[93, 23] = 1\n",
    "PT[93, 25:29] .= 1\n",
    "PT[94, 17:18] .= 1\n",
    "PT[94, 22] = PT[94, 27] = 1\n",
    "PT[95, 4] = 1\n",
    "PT[95, 6:7] .= 1\n",
    "PT[95, 14] = PT[95, 21] = PT[95, 29] = 1\n",
    "PT[96, 4] = 1\n",
    "PT[96, 7:8] .= 1\n",
    "PT[96, 14] = 1\n",
    "PT[96, 16:20] .= 1\n",
    "PT[96, 27] = PT[96, 29] = 1\n",
    "PT[97, 8:9] .= 1\n",
    "PT[97, 11:12] .= 1\n",
    "PT[97, 30] = 1\n",
    "PT[98, 8:9] .= 1\n",
    "PT[98, 14] = 1\n",
    "PT[98, 16:20] .= 1\n",
    "PT[98, 27] = PT[98, 29] = 1\n",
    "PT[99, 4] = 1\n",
    "PT[99, 7:8] .= 1\n",
    "PT[99, 14] = 1\n",
    "PT[99, 21] = 1\n",
    "PT[99, 29] = 1\n",
    "PT[100, 4] = 1\n",
    "PT[100, 6:7] .= 1\n",
    "PT[100, 17:18] .= 1\n",
    "PT[100, 22] = 1\n",
    "PT[100, 27] = 1\n",
    "PT[101, 11:12] .= 1\n",
    "PT[101, 14] = PT[101, 17] = PT[101, 20] = PT[101, 23] = 1\n",
    "PT[101, 25:29] .= 1\n",
    "PT[102, 4] = 1\n",
    "PT[102, 6:7] .= 1\n",
    "PT[102, 14] = PT[102, 16] = PT[102, 21] = PT[102, 23] = 1\n",
    "PT[102, 28:29] .= 1\n",
    "PT[103, 4] = 1\n",
    "PT[103, 7:8] .= 1\n",
    "PT[103, 28:29] .= 1\n",
    "PT[104, 8:9] .= 1\n",
    "PT[104, 27:29] .= 1\n",
    "PT[105, 4] = PT[105, 7] = 1\n",
    "PT[105, 9:10] .= 1\n",
    "PT[106, 4] = 1\n",
    "PT[106, 6:8] .= 1\n",
    "PT[106, 11] = PT[106, 26] = PT[106, 28] = 1\n",
    "PT[107, 11] = PT[107, 28] = 1\n",
    "PT[108, 4] = 1\n",
    "PT[108, 6:8] .= 1\n",
    "PT[108, 11] = PT[108, 25] = PT[108, 29] = 1\n",
    "PT[109, 4] = PT[109, 7] = 1\n",
    "PT[109, 9:10] .= 1\n",
    "PT[109, 25] = 1\n",
    "PT[109, 27:30] .= 1\n",
    "PT[110, 8:9] .= 1\n",
    "PT[110, 31] = 1\n",
    "PT[111, 4] = 1\n",
    "PT[111, 7:8] .= 1\n",
    "PT[111, 29] = PT[111, 32] = 1\n",
    "PT[112, 4] = 1\n",
    "PT[112, 6:7] .= 1\n",
    "PT[112, 29] = PT[112, 32] = 1\n",
    "PT[113, 27] = PT[113, 32] = 1\n",
    "PT[114, 4] = 1\n",
    "PT[114, 6:7] .= 1\n",
    "PT[114, 28:31] .= 1\n",
    "PT[115, 4] = 1\n",
    "PT[115, 7:8] .= 1\n",
    "PT[115, 30] = 1\n",
    "PT[116, 8:9] .= 1\n",
    "PT[116, 28:29] .= 1\n",
    "PT[117, 8] = 1\n",
    "PT[117, 10:11] .= 1\n",
    "PT[117, 25] = PT[117, 28] = 1\n",
    "PT[118, 1] = PT[118, 9] = 1\n",
    "PT[118, 11:13] .= 1\n",
    "PT[118, 25] = PT[118, 27] = 1\n",
    "PT[119, 3] = 1\n",
    "PT[119, 13:14] .= 1\n",
    "PT[120, 3] = 1\n",
    "PT[120, 5:6] .= 1\n",
    "PT[120, 14] = 1\n",
    "PT[121, 6] = PT[121, 14] = PT[121, 16] = 1\n",
    "PT[122, 3:4] .= 1\n",
    "PT[122, 6] = 1\n",
    "PT[122,16:18] .= 1\n",
    "PT[123, 15] = 1\n",
    "PT[123, 18:19] .= 1\n",
    "PT[124, 6] = PT[124, 8] = PT[124, 17] = 1\n",
    "PT[125, 6] = PT[125, 9] = PT[125, 17] = PT[125, 19] = 1\n",
    "PT[126, 9:10] .= 1\n",
    "PT[126, 19] = 1\n",
    "PT[127, 11] = 1\n",
    "PT[127, 19:22] .= 1\n",
    "PT[128, 9:12] .= 1\n",
    "PT[128, 21:22] .= 1\n",
    "PT[129, 8] = PT[129, 13] = PT[129, 24] = 1\n",
    "PT[130, 10] = PT[130, 13] = 1\n",
    "PT[130, 21:24] .= 1\n",
    "PT[131, 10] = PT[131, 13] = PT[131, 25] = 1\n",
    "PT[132, 12] = PT[132, 21] = 1\n",
    "PT[132, 24:26] .= 1\n",
    "PT[133, 6] = 1\n",
    "PT[133, 8:11] .= 1\n",
    "PT[133, 23:25] .= 1\n",
    "PT[134, 6] = PT[134, 10] = PT[134, 24] = 1\n",
    "PT[135, 9] = PT[135, 19] = 1\n",
    "PT[135, 21:23] .= 1\n",
    "PT[136, 7] = PT[136, 9] = 1\n",
    "PT[136, 19:20] .= 1\n",
    "PT[136, 23] = 1\n",
    "PT[137, 20:22] .= 1\n",
    "PT[138, 8:10] .= 1\n",
    "PT[138, 20] = 1\n",
    "PT[139, 9:10] .= 1\n",
    "PT[139, 22] = 1\n",
    "PT[140, 8:10] .= 1\n",
    "PT[140, 20] = PT[140, 22] = 1\n",
    "PT[141, 23] = 1\n",
    "PT[142, 7] = PT[142, 9] = PT[142, 20] = PT[142, 22] = 1\n",
    "PT[143, 9] = PT[143, 22] = 1\n",
    "PT[144, 6] = PT[144, 10] = PT[144, 20] = 1\n",
    "PT[145, 6] = 1\n",
    "PT[145, 8:11] .= 1\n",
    "PT[145, 20:22] .= 1\n",
    "PT[146, 12] = 1\n",
    "PT[146, 19:20] .= 1\n",
    "PT[146, 23] = 1\n",
    "PT[147, 10] = PT[147, 13] = PT[147, 19] = 1\n",
    "PT[147, 21:23] .= 1\n",
    "PT[148, 10] = PT[148, 13] = PT[148, 24] = 1\n",
    "PT[149, 8] = PT[149, 13] = 1\n",
    "PT[149, 23:25] .= 1\n",
    "PT[150, 9:12] .= 1\n",
    "PT[150, 21] = 1\n",
    "PT[150, 24:26] .= 1\n",
    "PT[151, 11] = PT[151, 25] = 1\n",
    "PT[152, 9:10] .= 1\n",
    "PT[152, 21:24] .= 1\n",
    "PT[153, 6] = PT[153, 9] = PT[153, 24] = 1\n",
    "PT[154, 6] = PT[154, 8] = 1\n",
    "PT[154, 21:22] .= 1\n",
    "PT[155, 19:22] .= 1\n",
    "PT[156, 19] = 1\n",
    "\n",
    "\n",
    "\n",
    ";\n",
    "#@draw dibujar_matriz(PT, .1, .1, 0)"
   ]
  },
  {
   "cell_type": "code",
   "execution_count": 27,
   "id": "selective-paragraph",
   "metadata": {},
   "outputs": [],
   "source": [
    "PT2 = trasladar_derecha(trasladar_abajo(ampliar(PT, 200), 15), 30)\n",
    ";\n",
    "#@draw dibujar_matriz(PT2, .3, 1, .3)"
   ]
  },
  {
   "cell_type": "code",
   "execution_count": 90,
   "id": "economic-metadata",
   "metadata": {},
   "outputs": [],
   "source": [
    "C = zeros(Int8,(1000,1000))\n",
    "C[1:1000,475:525] .= 1\n",
    "C[475:525, 1:1000] .= 1\n",
    "\n",
    "C2 = zeros(Int8, (1000,1000))\n",
    "C2[222:252, 1:470] .= 1\n",
    "C2[1:470, 222:252] .= 1\n",
    "C3 = trasladar_derecha(C2, 526)\n",
    "C4 = trasladar_abajo(C3, 526)\n",
    "C5 = trasladar_abajo(C2, 526)\n",
    "\n",
    "C6 = C+C2+C3+C4+C5\n",
    ";\n",
    "#@draw dibujar_matriz(C6, 0, 1, 0)"
   ]
  },
  {
   "cell_type": "code",
   "execution_count": 151,
   "id": "structured-harris",
   "metadata": {},
   "outputs": [],
   "source": [
    "S = zeros(Int8, (1002,1002))\n",
    "S[2:1001, 2:5].= 1\n",
    "\n",
    "S[252:255, 2:1001] .= 1\n",
    "S[2:1001, 252:255] .= 1\n",
    "\n",
    "S[500:503, 2:1001] .=1\n",
    "S[2:1001, 500:503] .=1\n",
    "\n",
    "S[750:753, 2:1001] .=1\n",
    "S[2:1001, 750:753] .=1\n",
    "\n",
    "S[2:5, 2:1001] .= 1\n",
    "S[996:1001, 2:1001] .= 1\n",
    "S[2:1001, 996:1001] .= 1\n",
    ";\n",
    "#@draw dibujar_matriz(S, .8, .8, .6)"
   ]
  },
  {
   "cell_type": "code",
   "execution_count": 150,
   "id": "liable-fountain",
   "metadata": {},
   "outputs": [],
   "source": [
    "SC = zeros(Int8, (503, 503))\n",
    "SC[2:503, 2:5].= 1\n",
    "\n",
    "SC[252:255, 2:503] .= 1\n",
    "SC[2:503, 252:255] .= 1\n",
    "\n",
    "SC[500:503, 2:503] .=1\n",
    "SC[2:503, 500:503] .=1\n",
    "\n",
    "SC[2:5, 2:503] .= 1\n",
    "\n",
    "SC[125:128, 2:503] .= 1\n",
    "SC[2:503, 125:128] .= 1 \n",
    "\n",
    "SC[375:378, 2:503] .= 1\n",
    "SC[2:503, 375:378] .= 1\n",
    ";\n",
    "#@draw dibujar_matriz(SC, .8, .8, .6)"
   ]
  },
  {
   "cell_type": "code",
   "execution_count": 210,
   "id": "grand-mobility",
   "metadata": {
    "scrolled": true
   },
   "outputs": [],
   "source": [
    "T = zeros(Int8, (500,500))\n",
    "\n",
    "for j in 1:250\n",
    "    for i in 1:j\n",
    "        r1 = rand(0:1)\n",
    "        r2 = rand(0:1)\n",
    "            T[j, (251 - i)] = r1\n",
    "            T[j, (249 + i)] = r2\n",
    "    end\n",
    "end\n",
    "\n",
    "for i in 1:500\n",
    "    if i % 2 == 0\n",
    "        T[1:500, i] .= 0\n",
    "    end\n",
    "end\n",
    "\n",
    "for n in 1:20:240\n",
    "    T[(4+n), 20:22] .= 1\n",
    "    T[(3+n), 22] = 1\n",
    "    T[(2+n), 21] = 1\n",
    "end\n",
    "\n",
    "T = reflejar_eje_x(T)  + T\n",
    ";\n",
    "#@draw dibujar_matriz(T, 0, .9, 1)"
   ]
  },
  {
   "cell_type": "code",
   "execution_count": 240,
   "id": "identical-wages",
   "metadata": {},
   "outputs": [],
   "source": [
    "#Guerra de gliders\n",
    "GG = zeros(Int8, (250,250))\n",
    "\n",
    "for n1 in 1:20:240, n2 in 1:10:30\n",
    "    GG[(4+n1+n2), (20+n2):(22+n2)] .= 1\n",
    "    GG[(3+n1+n2), (22+n2)] = 1\n",
    "    GG[(2+n1+n2), (21+n2)] = 1\n",
    "end\n",
    "\n",
    "GG = reflejar_eje_y(GG) + GG\n",
    ";\n",
    "#@draw dibujar_matriz(GG, 1, 1, 1)"
   ]
  },
  {
   "cell_type": "code",
   "execution_count": 9,
   "id": "looking-token",
   "metadata": {},
   "outputs": [],
   "source": [
    "#Guerra de Gliders con Glider Guns\n",
    "\n",
    "#Glider Cannon\n",
    "\n",
    "C = zeros(Int8, (200,200))\n",
    "\n",
    "for n1 in 1:25:100\n",
    "    C[(6+n1):(7+n1), 3:4] .= 1\n",
    "    C[(6+n1):(8+n1), 13] .= 1\n",
    "    C[(5+n1), 14] = 1\n",
    "    C[(9+n1), 14] = 1\n",
    "    C[(10+n1), 15:16] .= 1\n",
    "    C[(4+n1), 15:16] .= 1\n",
    "    C[(7+n1), 17] = 1\n",
    "    C[(5+n1), 18] = 1\n",
    "    C[(9+n1), 18] = 1\n",
    "    C[(6+n1):(8+n1), 19] .= 1\n",
    "    C[(7+n1), 20] = 1\n",
    "    C[(4+n1):(6+n1), 23:24] .= 1\n",
    "    C[(3+n1), 25] = 1\n",
    "    C[(7+n1), 25] = 1\n",
    "    C[(7+n1):(8+n1), 27] .= 1\n",
    "    C[(2+n1):(3+n1), 27] .= 1\n",
    "    C[(4+n1):(5+n1), 37:38] .=1\n",
    "end\n",
    "C = reflejar_eje_x(C) + reflejar_eje_y(reflejar_eje_x(C)) + C + reflejar_eje_y(C)\n",
    "\n",
    ";\n",
    "#@draw dibujar_matriz(C, .3, 0, 1)"
   ]
  },
  {
   "cell_type": "code",
   "execution_count": 20,
   "id": "better-pension",
   "metadata": {},
   "outputs": [],
   "source": [
    "#One dimensional Life\n",
    "\n",
    "O = zeros(Int8, (1610, 1610))\n",
    "\n",
    "O[805, 200:205] .= 1\n",
    "O[805, 207:210] .= 1\n",
    "O[805, 213:216] .= 1\n",
    "O[805, 247:250] .= 1\n",
    "O[805, 252:260] .= 1\n",
    "O[805, 262:264] .= 1\n",
    "O[805, 266:268] .= 1\n",
    "O[805, 381:384] .= 1\n",
    "O[805, 388:399] .= 1\n",
    "O[805, 403:405] .= 1\n",
    "O[805, 545:547] .= 1\n",
    "O[805, 549:553] .= 1\n",
    "O[805, 555:558] .= 1\n",
    "O[805, 564:568] .= 1\n",
    "O[805, 640:642] .= 1\n",
    "O[805, 645:649] .= 1\n",
    "O[805, 651:655] .= 1\n",
    "O[805, 667:670] .= 1\n",
    "O[805, 677:683] .= 1\n",
    "O[805, 685:688] .= 1\n",
    "O[805, 823:825] .= 1\n",
    "O[805, 829:836] .= 1\n",
    "O[805, 842:844] .= 1\n",
    "O[805, 846:849] .= 1\n",
    "O[805, 869:873] .= 1\n",
    "O[805, 876:878] .= 1\n",
    "O[805, 880:884] .= 1\n",
    "O[805, 886:892] .= 1\n",
    "O[805, 951:954] .= 1\n",
    "O[805, 956:960] .= 1\n",
    "O[805, 962:964] .= 1\n",
    "O[805, 966:968] .= 1\n",
    "O[805, 971:976] .= 1\n",
    "O[805, 988:991] .= 1\n",
    "O[805, 994:997] .= 1\n",
    "O[805, 999:1004] .= 1\n",
    "O[805, 1006:1008] .= 1\n",
    "O[805, 1070:1072] .= 1\n",
    "O[805, 1074:1076] .= 1\n",
    "O[805, 1081:1083] .= 1\n",
    "O[805, 1085:1091] .= 1\n",
    "O[805, 1273:1276] .= 1\n",
    "O[805, 1281:1283] .= 1\n",
    "O[805, 1287:1295] .= 1\n",
    "O[805, 1315:1317] .= 1\n",
    "O[805, 1319:1321] .= 1\n",
    "O[805, 1325:1331] .= 1\n",
    "O[805, 1335:1337] .= 1\n",
    "O[805, 1395:1399] .= 1\n",
    "O[805, 1401:1405] .= 1\n",
    "O[805, 1408:1410] .= 1\n",
    "\n",
    ";\n",
    "#@draw dibujar_matriz(O, 1, 0, 0)"
   ]
  },
  {
   "cell_type": "code",
   "execution_count": 61,
   "id": "south-cookbook",
   "metadata": {},
   "outputs": [],
   "source": [
    "D = zeros(Int8, (400,400))\n",
    "\n",
    "D[100,3:5].= 1\n",
    "D[100,9:16] .= 1\n",
    "D[100, 22:24] .= 1\n",
    "D[100, 26:29] .= 1\n",
    "D[100, 49:53] .= 1\n",
    "D[100, 56:58] .= 1\n",
    "D[100, 60:64] .= 1\n",
    "D[100, 66:72] .= 1\n",
    "D[100, 131:134] .= 1\n",
    "D[100, 136:140] .= 1\n",
    "D[100, 142:144] .= 1\n",
    "D[100, 146:148] .= 1\n",
    "D[100, 151:156] .= 1\n",
    "D[100, 168:171] .= 1\n",
    "D[100, 174:177] .= 1\n",
    "D[100, 179:184] .= 1\n",
    "D[100, 186:188] .= 1\n",
    "D[100, 250:252] .= 1\n",
    "D[100, 254:256] .= 1\n",
    "D[100, 261:263] .= 1\n",
    "D[100, 265:271] .= 1\n",
    "\n",
    "D = trasladar_abajo(trasladar_derecha(D, 63), 100)\n",
    "\n",
    ";\n",
    "#@draw dibujar_matriz(D, 1, 0, 0)"
   ]
  },
  {
   "cell_type": "code",
   "execution_count": 59,
   "id": "voluntary-coverage",
   "metadata": {},
   "outputs": [],
   "source": [
    "A = array[500]\n",
    "B = zeros(Int8, (400, 400))\n",
    "\n",
    "B[49, 68:70] .= 1\n",
    "B[49, 72:73] .= 1\n",
    "B[48, 71:72] .= 1\n",
    "B[50, 68:72] .= 1\n",
    "B[51, 69:71] .= 1\n",
    "\n",
    "A[49, 68:70] .= 1\n",
    "A[49, 72:73] .= 1\n",
    "A[48, 71:72] .= 1\n",
    "A[50, 68:72] .= 1\n",
    "A[51, 69:71] .= 1\n",
    "\n",
    "B = B + reflejar_eje_x(B)\n",
    "A = B + A\n",
    ";\n",
    "#@draw dibujar_matriz(A, 1, 0, 0)"
   ]
  },
  {
   "cell_type": "code",
   "execution_count": 8,
   "id": "abandoned-emperor",
   "metadata": {},
   "outputs": [],
   "source": [
    "Diag = zeros(Int8, (100,100))\n",
    "for j in 1:100, i in 1:100\n",
    "    if j == i || j == 100-i\n",
    "        Diag[j,i] = 1\n",
    "    end\n",
    "end\n",
    ";\n",
    "#@draw dibujar_matriz(Diag, 1, 0, 0)"
   ]
  },
  {
   "cell_type": "code",
   "execution_count": 127,
   "id": "brief-anderson",
   "metadata": {
    "scrolled": true
   },
   "outputs": [],
   "source": [
    "#Boat generator \n",
    "\n",
    "BT = zeros(Int8, (50,50))\n",
    "BT[2, 15] = 1\n",
    "BT[3, 10] = 1\n",
    "BT[3, 14] = 1\n",
    "BT[4, 11:14] .= 1\n",
    "BT[9, 10] = 1\n",
    "BT[9, 15] = 1\n",
    "BT[10, 11] = 1\n",
    "BT[10, 13:14] .= 1\n",
    "BT[11, 9:11] .= 1\n",
    "BT[11, 14:15] .= 1\n",
    "BT[16, 4:5] .= 1\n",
    "BT[16, 11] = 1\n",
    "BT[16, 14] = 1\n",
    "BT[17, 3:6] .= 1\n",
    "BT[17, 15] = 1\n",
    "BT[18, 3:4] .= 1\n",
    "BT[18, 6:7] .= 1\n",
    "BT[18, 11] = 1\n",
    "BT[18, 15] = 1\n",
    "BT[19, 5:6] .= 1\n",
    "BT[19, 12:15] .= 1\n",
    "#=\n",
    "for i in 1:40:80\n",
    "   BT = BT + trasladar_abajo(BT, i) \n",
    "end\n",
    "\n",
    "BT = reflejar_eje_x(BT) + BT\n",
    "BTy = reflejar_eje_y(BT)\n",
    "\n",
    "BTT = BT + BTy\n",
    "=#\n",
    "#=\n",
    "BT = reflejar_eje_x(trasladar_abajo(reflejar_eje_y(trasladar_derecha(BT, 5)) + \n",
    "        trasladar_derecha(BT, 5), 5)) + trasladar_abajo(reflejar_eje_y(trasladar_derecha(BT, 5)) + trasladar_derecha(BT, 5), 5)\n",
    "=#   \n",
    "BT = trasladar_derecha(trasladar_abajo(BT, 7), 13)\n",
    ";\n",
    "#@draw dibujar_matriz(BT, 1, 1, 1)"
   ]
  },
  {
   "cell_type": "code",
   "execution_count": 23,
   "id": "least-rainbow",
   "metadata": {
    "scrolled": false
   },
   "outputs": [
    {
     "ename": "LoadError",
     "evalue": "\u001b[91mUndefVarError: array not defined\u001b[39m",
     "output_type": "error",
     "traceback": [
      "\u001b[91mUndefVarError: array not defined\u001b[39m",
      "",
      "Stacktrace:",
      " [1] top-level scope at In[23]:1",
      " [2] include_string(::Function, ::Module, ::String, ::String) at .\\loading.jl:1091"
     ]
    }
   ],
   "source": [
    "pez59= array[1]\n",
    "pez59[27, 27] = 1\n",
    "pez59[27, 26] = 1\n",
    "pez59[27, 25] = 1\n",
    "pez59[28, 27] = 1\n",
    "pez59[29, 26] = 1\n",
    "\n",
    "pez59[17, 27] = 0\n",
    "pez59[17, 26] = 0\n",
    "pez59[17, 25] = 0\n",
    "pez59[16, 27] = 0\n",
    "pez59[15, 26] = 0\n",
    "\n",
    "pez59[15, 25] = 0\n",
    "\n",
    "pez59[13, 23] = 1\n",
    "pez59[13, 22] = 1\n",
    "pez59[13, 21] = 1\n",
    "pez59[12, 23] = 1\n",
    "pez59[11, 22] = 1\n",
    "\n",
    "pez59[13, 30] = 0\n",
    "\n",
    "pez59[13, 40] = 1\n",
    "pez59[13, 41] = 1\n",
    "pez59[13, 42] = 1\n",
    "pez59[12, 40] = 1\n",
    "pez59[11, 41] = 1\n",
    ";\n",
    "#@draw dibujar_matriz(pez59, 1, 0, 0)"
   ]
  },
  {
   "cell_type": "markdown",
   "id": "functional-dominant",
   "metadata": {},
   "source": [
    "# Wolfram Cellular Automaton"
   ]
  },
  {
   "cell_type": "code",
   "execution_count": 18,
   "id": "headed-brain",
   "metadata": {},
   "outputs": [
    {
     "data": {
      "image/png": "[encoded data removed]",
      "text/plain": []
     },
     "execution_count": 18,
     "metadata": {},
     "output_type": "execute_result"
    }
   ],
   "source": [
    "M = trues(500,500)\n",
    "M[1,250] = 0\n",
    "\n",
    "@draw dibujar_matriz(M,1,1,1)"
   ]
  },
  {
   "cell_type": "code",
   "execution_count": 33,
   "id": "checked-player",
   "metadata": {},
   "outputs": [
    {
     "data": {
      "text/plain": [
       "evolucionarWolfram (generic function with 1 method)"
      ]
     },
     "execution_count": 33,
     "metadata": {},
     "output_type": "execute_result"
    }
   ],
   "source": [
    "function evolucionarWolfram(A)\n",
    "    \n",
    "    k = size(A)[1]\n",
    "    l = size(A)[2]\n",
    "    \n",
    "    B = copy(A)\n",
    "    \n",
    "    for j ∈ 2:(k-1), i ∈ 2:(l-1)\n",
    "        \n",
    "        if A[j-1, i-1] == 0 && A[j-1, i] == 0 && A[j-1, i+1] == 0\n",
    "            B[j,i] = 1\n",
    "        end\n",
    "        if A[j-1, i-1] == 0 && A[j-1, i] == 0 && A[j-1, i+1] == 1\n",
    "            B[j,i] = 1\n",
    "        end\n",
    "        if A[j-1, i-1] == 0 && A[j-1, i] == 1 && A[j-1, i+1] == 0\n",
    "            B[j,i] = 1\n",
    "        end\n",
    "        if A[j-1, i-1] == 0 && A[j-1, i] == 1 && A[j-1, i+1] == 1\n",
    "            B[j,i] = 0\n",
    "        end\n",
    "        if A[j-1, i-1] == 1 && A[j-1, i] == 0 && A[j-1, i+1] == 0\n",
    "            B[j,i] = 0\n",
    "        end\n",
    "        if A[j-1, i-1] == 1 && A[j-1, i] == 0 && A[j-1, i+1] == 1\n",
    "            B[j,i] = 0\n",
    "        end\n",
    "        if A[j-1, i-1] == 1 && A[j-1, i] == 1 && A[j-1, i+1] == 0\n",
    "            B[j,i] = 0\n",
    "        end\n",
    "        if A[j-1, i-1] == 1 && A[j-1, i] == 1 && A[j-1, i+1] == 1\n",
    "            B[j,i] = 1\n",
    "        end\n",
    "    end\n",
    "    \n",
    "        push!(aWolfram, B)\n",
    "        return(B)\n",
    "        \n",
    "end"
   ]
  },
  {
   "cell_type": "code",
   "execution_count": 34,
   "id": "portable-opinion",
   "metadata": {},
   "outputs": [
    {
     "data": {
      "text/plain": [
       "1-element Array{Array,1}:\n",
       " Bool[1 1 … 1 1; 1 1 … 1 1; … ; 1 1 … 1 1; 1 1 … 1 1]"
      ]
     },
     "execution_count": 34,
     "metadata": {},
     "output_type": "execute_result"
    }
   ],
   "source": [
    "aWolfram = Array[M]"
   ]
  },
  {
   "cell_type": "code",
   "execution_count": 35,
   "id": "established-cookbook",
   "metadata": {},
   "outputs": [
    {
     "data": {
      "text/plain": [
       "250-element Array{Array{Bool,2},1}:\n",
       " [1 1 … 1 1; 1 1 … 1 1; … ; 1 1 … 1 1; 1 1 … 1 1]\n",
       " [1 1 … 1 1; 1 1 … 1 1; … ; 1 1 … 1 1; 1 1 … 1 1]\n",
       " [1 1 … 1 1; 1 1 … 1 1; … ; 1 1 … 1 1; 1 1 … 1 1]\n",
       " [1 1 … 1 1; 1 1 … 1 1; … ; 1 1 … 1 1; 1 1 … 1 1]\n",
       " [1 1 … 1 1; 1 1 … 1 1; … ; 1 1 … 1 1; 1 1 … 1 1]\n",
       " [1 1 … 1 1; 1 1 … 1 1; … ; 1 1 … 1 1; 1 1 … 1 1]\n",
       " [1 1 … 1 1; 1 1 … 1 1; … ; 1 1 … 1 1; 1 1 … 1 1]\n",
       " [1 1 … 1 1; 1 1 … 1 1; … ; 1 1 … 1 1; 1 1 … 1 1]\n",
       " [1 1 … 1 1; 1 1 … 1 1; … ; 1 1 … 1 1; 1 1 … 1 1]\n",
       " [1 1 … 1 1; 1 1 … 1 1; … ; 1 1 … 1 1; 1 1 … 1 1]\n",
       " [1 1 … 1 1; 1 1 … 1 1; … ; 1 1 … 1 1; 1 1 … 1 1]\n",
       " [1 1 … 1 1; 1 1 … 1 1; … ; 1 1 … 1 1; 1 1 … 1 1]\n",
       " [1 1 … 1 1; 1 1 … 1 1; … ; 1 1 … 1 1; 1 1 … 1 1]\n",
       " ⋮\n",
       " [1 1 … 1 1; 1 1 … 1 1; … ; 1 1 … 1 1; 1 1 … 1 1]\n",
       " [1 1 … 1 1; 1 1 … 1 1; … ; 1 1 … 1 1; 1 1 … 1 1]\n",
       " [1 1 … 1 1; 1 1 … 1 1; … ; 1 1 … 1 1; 1 1 … 1 1]\n",
       " [1 1 … 1 1; 1 1 … 1 1; … ; 1 1 … 1 1; 1 1 … 1 1]\n",
       " [1 1 … 1 1; 1 1 … 1 1; … ; 1 1 … 1 1; 1 1 … 1 1]\n",
       " [1 1 … 1 1; 1 1 … 1 1; … ; 1 1 … 1 1; 1 1 … 1 1]\n",
       " [1 1 … 1 1; 1 1 … 1 1; … ; 1 1 … 1 1; 1 1 … 1 1]\n",
       " [1 1 … 1 1; 1 1 … 1 1; … ; 1 1 … 1 1; 1 1 … 1 1]\n",
       " [1 1 … 1 1; 1 1 … 1 1; … ; 1 1 … 1 1; 1 1 … 1 1]\n",
       " [1 1 … 1 1; 1 1 … 1 1; … ; 1 1 … 1 1; 1 1 … 1 1]\n",
       " [1 1 … 1 1; 1 1 … 1 1; … ; 1 1 … 1 1; 1 1 … 1 1]\n",
       " [1 1 … 1 1; 1 1 … 1 1; … ; 1 1 … 1 1; 1 1 … 1 1]"
      ]
     },
     "execution_count": 35,
     "metadata": {},
     "output_type": "execute_result"
    }
   ],
   "source": [
    "[evolucionarWolfram(aWolfram[i]) for i ∈ 1:250]"
   ]
  },
  {
   "cell_type": "code",
   "execution_count": 44,
   "id": "infinite-innocent",
   "metadata": {},
   "outputs": [
    {
     "data": {
      "image/png": "[encoded data removed]",
      "text/plain": []
     },
     "execution_count": 44,
     "metadata": {},
     "output_type": "execute_result"
    }
   ],
   "source": [
    "W250 = aWolfram[250]\n",
    "\n",
    "W = copy(W250)\n",
    "    \n",
    "k = size(W250)[1]\n",
    "l = size(W250)[2]\n",
    "for j ∈ 1:k, i ∈ 1:l\n",
    "    if W250[j,i] == 1\n",
    "        W[j,i] = 0\n",
    "    end\n",
    "    if W250[j,i] == 0\n",
    "        W[j,i] = 1\n",
    "    end\n",
    "end\n",
    "\n",
    "\n",
    "W = trasladar_abajo(W, 100)\n",
    "@draw dibujar_matriz(W,1,1,1)"
   ]
  },
  {
   "cell_type": "markdown",
   "id": "forty-assault",
   "metadata": {},
   "source": [
    "# Game of Life"
   ]
  },
  {
   "cell_type": "code",
   "execution_count": 5,
   "id": "lyric-bahamas",
   "metadata": {},
   "outputs": [],
   "source": [
    "function vecinos(j,i,A)\n",
    "                        A[j-1, i-1] + A[j, i-1] + A[j+1, i-1] +\n",
    "                        A[j-1, i] + A[j+1, i] + \n",
    "                        A[j-1, i+1] + A[j, i+1] + A[j+1, i+1]\n",
    "end\n",
    ";"
   ]
  },
  {
   "cell_type": "code",
   "execution_count": 6,
   "id": "chief-exemption",
   "metadata": {},
   "outputs": [
    {
     "data": {
      "text/plain": [
       "vecinos_1_1 (generic function with 1 method)"
      ]
     },
     "execution_count": 6,
     "metadata": {},
     "output_type": "execute_result"
    }
   ],
   "source": [
    "function vecinos_1_1(A)\n",
    "    \n",
    "        k = size(A)[1]\n",
    "        l = size(A)[2]\n",
    "    \n",
    "        A[k,l] + A[k, 1] + A[k, 2] + \n",
    "        A[1, l] + A[1, 2] + \n",
    "        A[2, l] + A[2, 1] + A[2,2]\n",
    "end"
   ]
  },
  {
   "cell_type": "code",
   "execution_count": 7,
   "id": "consolidated-little",
   "metadata": {},
   "outputs": [
    {
     "data": {
      "text/plain": [
       "vecinos_1_l (generic function with 1 method)"
      ]
     },
     "execution_count": 7,
     "metadata": {},
     "output_type": "execute_result"
    }
   ],
   "source": [
    "function vecinos_1_l(A)\n",
    "    \n",
    "     k = size(A)[1]\n",
    "     l = size(A)[2]\n",
    "    \n",
    "        A[k, l-1] + A[k, l] + A[k, 1] +\n",
    "        A[1, l-1] + A[1,1] + \n",
    "        A[2, l-1] + A[2, l] + A[2, 1]\n",
    "end"
   ]
  },
  {
   "cell_type": "code",
   "execution_count": 8,
   "id": "patent-strike",
   "metadata": {},
   "outputs": [
    {
     "data": {
      "text/plain": [
       "vecinos_1_i (generic function with 1 method)"
      ]
     },
     "execution_count": 8,
     "metadata": {},
     "output_type": "execute_result"
    }
   ],
   "source": [
    "function vecinos_1_i(i, A)\n",
    "            \n",
    "        k = size(A)[1]\n",
    "        l = size(A)[2]\n",
    "    \n",
    "        A[k, i-1] + A[k, i] + A[k, i+1] +\n",
    "        A[1, i-1] + A[1, i+1] + \n",
    "        A[2, i-1] + A[2, i] + A[2, i+1]\n",
    "end"
   ]
  },
  {
   "cell_type": "code",
   "execution_count": 9,
   "id": "editorial-adult",
   "metadata": {},
   "outputs": [
    {
     "data": {
      "text/plain": [
       "vecinos_k_1 (generic function with 1 method)"
      ]
     },
     "execution_count": 9,
     "metadata": {},
     "output_type": "execute_result"
    }
   ],
   "source": [
    "function vecinos_k_1(A)\n",
    "      k = size(A)[1]\n",
    "      l = size(A)[2]\n",
    "    \n",
    "      A[k-1, l] + A[k-1, 1] + A[k-1, 2] +\n",
    "      A[k,l] + A[k,2] +\n",
    "      A[1, l] + A[1,1] + A[1, 2]\n",
    "end"
   ]
  },
  {
   "cell_type": "code",
   "execution_count": 10,
   "id": "clean-secretariat",
   "metadata": {},
   "outputs": [
    {
     "data": {
      "text/plain": [
       "vecinos_k_i (generic function with 1 method)"
      ]
     },
     "execution_count": 10,
     "metadata": {},
     "output_type": "execute_result"
    }
   ],
   "source": [
    "function vecinos_k_i(i, A)\n",
    "    \n",
    "    k = size(A)[1]\n",
    "    l = size(A)[2]\n",
    "    \n",
    "    A[k-1, i-1] + A[k-1, i] + A[k-1, i+1] + \n",
    "    A[k, i-1] + A[k, i+1] + \n",
    "    A[1, i-1] + A[1, i] + A[1, i+1]\n",
    "    \n",
    "end"
   ]
  },
  {
   "cell_type": "code",
   "execution_count": 11,
   "id": "armed-reaction",
   "metadata": {},
   "outputs": [
    {
     "data": {
      "text/plain": [
       "vecinos_k_l (generic function with 1 method)"
      ]
     },
     "execution_count": 11,
     "metadata": {},
     "output_type": "execute_result"
    }
   ],
   "source": [
    "function vecinos_k_l(A)\n",
    "    k = size(A)[1]\n",
    "    l = size(A)[2]\n",
    "    \n",
    "    A[k-1, l-1] + A[k-1, l] + A[k-1, 1] +\n",
    "    A[k, l-1] + A[k, 1] + \n",
    "    A[1, l-1] + A[1, l] + A[1,1]\n",
    "    \n",
    "end"
   ]
  },
  {
   "cell_type": "code",
   "execution_count": 13,
   "id": "nuclear-cooling",
   "metadata": {},
   "outputs": [
    {
     "data": {
      "text/plain": [
       "vecinos_j_1 (generic function with 1 method)"
      ]
     },
     "execution_count": 13,
     "metadata": {},
     "output_type": "execute_result"
    }
   ],
   "source": [
    "function vecinos_j_1(j, A)\n",
    "    \n",
    "    k = size(A)[1]\n",
    "    l = size(A)[2]\n",
    "    \n",
    "    A[j-1, l] + A[j-1, 1] + A[j-1, 2] +\n",
    "    A[j, l] + A[j, 2] + \n",
    "    A[j+1, l] + A[j+1, 1] + A[j+1, 2]\n",
    "    \n",
    "end"
   ]
  },
  {
   "cell_type": "code",
   "execution_count": 14,
   "id": "tight-click",
   "metadata": {},
   "outputs": [
    {
     "data": {
      "text/plain": [
       "vecinos_j_l (generic function with 1 method)"
      ]
     },
     "execution_count": 14,
     "metadata": {},
     "output_type": "execute_result"
    }
   ],
   "source": [
    "function vecinos_j_l(j, A)\n",
    "    k = size(A)[1]\n",
    "    l = size(A)[2]\n",
    "    \n",
    "    A[j-1, l-1] + A[j-1, l] + A[j-1, 1] +\n",
    "    A[j, l-1] + A[j, 1] +\n",
    "    A[j + 1, l-1] + A[j + 1, l] + A[j + 1, 1]\n",
    "    \n",
    "end"
   ]
  },
  {
   "cell_type": "code",
   "execution_count": 17,
   "id": "settled-survivor",
   "metadata": {},
   "outputs": [
    {
     "data": {
      "text/plain": [
       "dibujar_matriz (generic function with 1 method)"
      ]
     },
     "execution_count": 17,
     "metadata": {},
     "output_type": "execute_result"
    }
   ],
   "source": [
    "function dibujar_matriz(M, a, b, c)\n",
    "    \n",
    "        k = size(M)[1]\n",
    "        l = size(M)[2]\n",
    "        \n",
    "        \n",
    "        background(0,0,0)\n",
    "        t = Table(k, l, 500/k, 500/l)\n",
    "            for i ∈ 1:l\n",
    "                for j ∈ 1:k\n",
    "                    if M[j,i] == 1\n",
    "                        sethue(a,b,c) #Color de la matriz\n",
    "                        box(t, j, i, :fill)\n",
    "                    end\n",
    "                end\n",
    "            end \n",
    "end"
   ]
  },
  {
   "cell_type": "code",
   "execution_count": 55,
   "id": "urban-greece",
   "metadata": {
    "scrolled": true
   },
   "outputs": [
    {
     "data": {
      "text/plain": [
       "1-element Array{Array,1}:\n",
       " Int8[0 0 … 0 0; 0 0 … 0 0; … ; 0 0 … 0 0; 0 0 … 0 0]"
      ]
     },
     "execution_count": 55,
     "metadata": {},
     "output_type": "execute_result"
    }
   ],
   "source": [
    "array = Array[array[1000]]"
   ]
  },
  {
   "cell_type": "code",
   "execution_count": 46,
   "id": "clear-hawaiian",
   "metadata": {},
   "outputs": [
    {
     "data": {
      "text/plain": [
       "evolucionar (generic function with 1 method)"
      ]
     },
     "execution_count": 46,
     "metadata": {},
     "output_type": "execute_result"
    }
   ],
   "source": [
    "function evolucionar(A)\n",
    "        \n",
    "        k = size(A)[1]\n",
    "        l = size(A)[2]\n",
    "    \n",
    "        B = copy(A)\n",
    "     \n",
    "            for j ∈ 1:k, i ∈ 1:l \n",
    "    \n",
    "                if j == 1 && i == 1\n",
    "\n",
    "                    if A[1,1] == 1 && (vecinos_1_1(A) == 2 || vecinos_1_1(A) == 3)\n",
    "                            B[1,1] = 1\n",
    "                    end\n",
    "                    if A[1,1] == 1 && vecinos_1_1(A) < 2 \n",
    "                            B[1,1] = 0\n",
    "                    end\n",
    "                    if A[1,1] == 1 && vecinos_1_1(A) > 3 \n",
    "                            B[1,1] = 0\n",
    "                    end\n",
    "                    if A[1,1] == 0 && vecinos_1_1(A) == 3\n",
    "                            B[1,1] = 1\n",
    "                    end\n",
    "                end\n",
    "        \n",
    "                if j == 1 && (i != 1 && i != l)\n",
    "                    if A[1, i] == 1 && (vecinos_1_i(i, A) == 2 || vecinos_1_i(i, A) == 3)\n",
    "                        B[1, i] = 1\n",
    "                    end\n",
    "                    if A[1, i] == 1 && vecinos_1_i(i, A) < 2 \n",
    "                        B[1, i] = 0\n",
    "                    end\n",
    "                     if A[1, i] == 1 && vecinos_1_i(i, A) > 3\n",
    "                        B[1, i] = 0\n",
    "                    end\n",
    "                    if A[1, i] == 0 && vecinos_1_i(i, A) == 3\n",
    "                        B[1,i] = 1\n",
    "                    end\n",
    "                end\n",
    "                \n",
    "                if j == 1 && i == l\n",
    "                    if A[1, l] == 1 && (vecinos_1_l(A) == 2 || vecinos_1_l(A) == 3)\n",
    "                        B[1, l] = 1\n",
    "                    end\n",
    "                    if A[1, l] == 1 && vecinos_1_l(A) < 2 \n",
    "                        B[1, l] = 0\n",
    "                    end\n",
    "                    if A[1, l] == 1 && vecinos_1_l(A) > 3\n",
    "                        B[1, l] = 0\n",
    "                    end\n",
    "                    if A[1, l] == 0 && vecinos_1_l(A) == 3\n",
    "                        B[1,l] = 1\n",
    "                    end\n",
    "                    \n",
    "                end\n",
    "        \n",
    "                if j == k && i == 1\n",
    "                    if A[k, 1] == 1 && (vecinos_k_1(A) == 2 || vecinos_k_1(A) == 3)\n",
    "                        B[k, 1] = 1\n",
    "                    end\n",
    "                    if A[k, 1] == 1 && vecinos_k_1(A) < 2 \n",
    "                    B[k, 1] = 0\n",
    "                    end\n",
    "                    if A[k, 1] == 1 &&  vecinos_k_1(A) > 3\n",
    "                    B[k, 1] = 0\n",
    "                    end\n",
    "                    if A[k, 1] == 0 && vecinos_k_1(A) == 3\n",
    "                        B[k,1] = 1\n",
    "                    end\n",
    "                end\n",
    "                \n",
    "                if j == k && (i != 1 && i != l)\n",
    "                     if A[k, i] == 1 && (vecinos_k_i(i,A) == 2 || vecinos_k_i(i,A) == 3)\n",
    "                        B[k, i] = 1\n",
    "                    end\n",
    "                    if A[k, i] == 1 && vecinos_k_i(i,A) < 2 \n",
    "                        B[k, i] = 0\n",
    "                    end\n",
    "                    if A[k, i] == 1 && vecinos_k_i(i,A) > 3\n",
    "                        B[k, i] = 0\n",
    "                    end\n",
    "                    if A[k, i] == 0 && vecinos_k_i(i,A) == 3\n",
    "                        B[k,i] = 1\n",
    "                    end\n",
    "                end\n",
    "                \n",
    "                if j == k && i == l\n",
    "                     if A[k, l] == 1 && (vecinos_k_l(A) == 2 || vecinos_k_l(A) == 3)\n",
    "                        B[k, l] = 1\n",
    "                    end\n",
    "                    if A[k, l] == 1 && vecinos_k_l(A) < 2 \n",
    "                        B[k, l] = 0\n",
    "                    end\n",
    "                     if A[k, l] == 1 && vecinos_k_l(A) > 3\n",
    "                        B[k, l] = 0\n",
    "                    end\n",
    "                    if A[k, l] == 0 && vecinos_k_l(A) == 3\n",
    "                        B[k,l] = 1\n",
    "                    end\n",
    "                end\n",
    "        \n",
    "                if (j != 1 && j != k) && i == 1\n",
    "                     if A[j, 1] == 1 && (vecinos_j_1(j,A) == 2 || vecinos_j_1(j,A) == 3)\n",
    "                        B[j, 1] = 1\n",
    "                    end\n",
    "                     if A[j, 1] == 1 && vecinos_j_1(j,A) < 2 \n",
    "                        B[j, 1] = 0\n",
    "                    end\n",
    "                    if A[j, 1] == 1 && vecinos_j_1(j,A) > 3\n",
    "                        B[j, 1] = 0\n",
    "                    end\n",
    "                    if A[j, 1] == 0 && vecinos_j_1(j,A) == 3\n",
    "                        B[j,1] = 1\n",
    "                    end\n",
    "                end\n",
    "        \n",
    "                if (j != 1 && j != k) && i == l\n",
    "                    if A[j, l] == 1 && (vecinos_j_l(j,A) == 2 || vecinos_j_l(j,A) == 3)\n",
    "                        B[j, l] = 1\n",
    "                    end\n",
    "                    if A[j, l] == 1 && vecinos_j_l(j,A) < 2 \n",
    "                        B[j, l] = 0\n",
    "                    end\n",
    "                    if A[j, l] == 1 && vecinos_j_l(j,A) > 3\n",
    "                        B[j, l] = 0\n",
    "                    end\n",
    "                    if A[j, l] == 0 && vecinos_j_l(j,A) == 3\n",
    "                        B[j,l] = 1\n",
    "                    end\n",
    "                end\n",
    "                \n",
    "                if (j != 1 && j != k) && (i != 1 && i != l)       \n",
    "                        \n",
    "                        #=\n",
    "                                Any live cell with fewer \n",
    "                            than two live neighbours dies, \n",
    "                            as if by underpopulation.\n",
    "                        =#\n",
    "\n",
    "                        if A[j,i] == 1 && vecinos(j,i,A) < 2\n",
    "                                B[j,i] = 0\n",
    "                        end\n",
    "\n",
    "                         #=\n",
    "                               Any live cell with \n",
    "                                two or three live neighbours \n",
    "                                lives on to the next generation.\n",
    "                         =#\n",
    "\n",
    "                        if A[j,i] == 1 && (vecinos(j,i,A) == 2 || vecinos(j,i,A) == 3)\n",
    "\n",
    "                            B[j,i] = 1\n",
    "                        end\n",
    "\n",
    "                         #=\n",
    "                               Any live cell with more than three\n",
    "                                live neighbours dies, \n",
    "                                as if by overpopulation.\n",
    "                        =#\n",
    "\n",
    "                        if A[j,i] == 1 && vecinos(j,i,A) > 3\n",
    "\n",
    "                            B[j,i] = 0\n",
    "                        end\n",
    "\n",
    "                        #=\n",
    "                                  Any dead cell with exactly \n",
    "                                    three live neighbours becomes a live cell, \n",
    "                                        as if by reproduction.      \n",
    "                        =#\n",
    "\n",
    "                        if A[j,i] == 0 && vecinos(j,i,A) == 3\n",
    "\n",
    "                            B[j,i] = 1\n",
    "                        end\n",
    "\n",
    "                end\n",
    "            end\n",
    "    \n",
    "    #Para evitar agregar al arreglo individuos iguales, todos a partir de alguno. \n",
    "    \n",
    "            contador = 0\n",
    "        \n",
    "            for i ∈ 1:l, j ∈ 1:k\n",
    "        \n",
    "                    if B[j,i] == A[j,i]\n",
    "                        contador += 1\n",
    "                    end\n",
    "            end\n",
    "    \n",
    "                if contador != l*k\n",
    "                    push!(array, B)\n",
    "        else\n",
    "            nothing\n",
    "        end\n",
    "    \n",
    "        #push!(array, B)\n",
    "        return B\n",
    "end\n",
    "\n",
    "\n",
    "\n"
   ]
  },
  {
   "cell_type": "code",
   "execution_count": 56,
   "id": "finnish-phone",
   "metadata": {},
   "outputs": [
    {
     "data": {
      "text/plain": [
       "2000-element Array{Array{Int8,2},1}:\n",
       " [0 0 … 0 0; 0 0 … 0 0; … ; 0 0 … 0 0; 0 0 … 0 0]\n",
       " [0 0 … 0 0; 0 0 … 0 0; … ; 0 0 … 0 0; 0 0 … 0 0]\n",
       " [0 0 … 0 0; 0 0 … 0 0; … ; 0 0 … 0 0; 0 0 … 0 0]\n",
       " [0 0 … 0 0; 0 0 … 0 0; … ; 0 0 … 0 0; 0 0 … 0 0]\n",
       " [0 0 … 0 0; 0 0 … 0 0; … ; 0 0 … 0 0; 0 0 … 0 0]\n",
       " [0 0 … 0 0; 0 0 … 0 0; … ; 0 0 … 0 0; 0 0 … 0 0]\n",
       " [0 0 … 0 0; 0 0 … 0 0; … ; 0 0 … 0 0; 0 0 … 0 0]\n",
       " [0 0 … 0 0; 0 0 … 0 0; … ; 0 0 … 0 0; 0 0 … 0 0]\n",
       " [0 0 … 0 0; 0 0 … 0 0; … ; 0 0 … 0 0; 0 0 … 0 0]\n",
       " [0 0 … 0 0; 0 0 … 0 0; … ; 0 0 … 0 0; 0 0 … 0 0]\n",
       " [0 0 … 0 0; 0 0 … 0 0; … ; 0 0 … 0 0; 0 0 … 0 0]\n",
       " [0 0 … 0 0; 0 0 … 0 0; … ; 0 0 … 0 0; 0 0 … 0 0]\n",
       " [0 0 … 0 0; 0 0 … 0 0; … ; 0 0 … 0 0; 0 0 … 0 0]\n",
       " ⋮\n",
       " [0 0 … 0 0; 0 0 … 0 0; … ; 0 0 … 0 0; 0 0 … 0 0]\n",
       " [0 0 … 0 0; 0 0 … 0 0; … ; 0 0 … 0 0; 0 0 … 0 0]\n",
       " [0 0 … 0 0; 0 0 … 0 0; … ; 0 0 … 0 0; 0 0 … 0 0]\n",
       " [0 0 … 0 0; 0 0 … 0 0; … ; 0 0 … 0 0; 0 0 … 0 0]\n",
       " [0 0 … 0 0; 0 0 … 0 0; … ; 0 0 … 0 0; 0 0 … 0 0]\n",
       " [0 0 … 0 0; 0 0 … 0 0; … ; 0 0 … 0 0; 0 0 … 0 0]\n",
       " [0 0 … 0 0; 0 0 … 0 0; … ; 0 0 … 0 0; 0 0 … 0 0]\n",
       " [0 0 … 0 0; 0 0 … 0 0; … ; 0 0 … 0 0; 0 0 … 0 0]\n",
       " [0 0 … 0 0; 0 0 … 0 0; … ; 0 0 … 0 0; 0 0 … 0 0]\n",
       " [0 0 … 0 0; 0 0 … 0 0; … ; 0 0 … 0 0; 0 0 … 0 0]\n",
       " [0 0 … 0 0; 0 0 … 0 0; … ; 0 0 … 0 0; 0 0 … 0 0]\n",
       " [0 0 … 0 0; 0 0 … 0 0; … ; 0 0 … 0 0; 0 0 … 0 0]"
      ]
     },
     "execution_count": 56,
     "metadata": {},
     "output_type": "execute_result"
    }
   ],
   "source": [
    "[evolucionar(array[i]) for i ∈ 1:2000] #Correr el metodo evolucionar imax-imin veces\n",
    "\n",
    "#=\n",
    "    Si marca algo como \"BoundsError: attempt to access 2-element Array{Array,1} at index [3]\"\n",
    "    significa que a partir de la segunda evolucion, todos los individuos son iguales.\n",
    "=#"
   ]
  },
  {
   "cell_type": "code",
   "execution_count": 54,
   "id": "attended-organization",
   "metadata": {},
   "outputs": [
    {
     "data": {
      "text/plain": [
       "1001"
      ]
     },
     "execution_count": 54,
     "metadata": {},
     "output_type": "execute_result"
    }
   ],
   "source": [
    "length(array)"
   ]
  },
  {
   "cell_type": "code",
   "execution_count": 82,
   "id": "stopped-snake",
   "metadata": {},
   "outputs": [
    {
     "data": {
      "text/plain": [
       "0.8488417642962214"
      ]
     },
     "execution_count": 82,
     "metadata": {},
     "output_type": "execute_result"
    }
   ],
   "source": [
    "rand(Float64)"
   ]
  },
  {
   "cell_type": "code",
   "execution_count": 57,
   "id": "wireless-simple",
   "metadata": {},
   "outputs": [],
   "source": [
    "#Guardarlo \n",
    "\n",
    "counter = 1\n",
    "    for i ∈ 1:length(array)\n",
    "        \n",
    "        r = rand(Float64)\n",
    "        g = rand(Float64)\n",
    "        b = rand(Float64)\n",
    "        \n",
    "        @png begin\n",
    "            dibujar_matriz(array[i], 1,1,1)\n",
    "    end 600 600 \"C:/Users/progr/Pictures/Game of Life/Wolfram/W_$(1501+counter).png\"\n",
    "        counter += 1\n",
    "end"
   ]
  },
  {
   "cell_type": "code",
   "execution_count": 74,
   "id": "wireless-supply",
   "metadata": {},
   "outputs": [
    {
     "data": {
      "text/plain": [
       "502"
      ]
     },
     "execution_count": 74,
     "metadata": {},
     "output_type": "execute_result"
    }
   ],
   "source": [
    "counter"
   ]
  },
  {
   "cell_type": "markdown",
   "id": "weighted-washington",
   "metadata": {},
   "source": [
    "# Hacer el toro "
   ]
  },
  {
   "cell_type": "code",
   "execution_count": 3,
   "id": "handled-aluminum",
   "metadata": {
    "scrolled": true
   },
   "outputs": [
    {
     "ename": "LoadError",
     "evalue": "\u001b[91mNo applicable_loaders found for UNKNOWN\u001b[39m",
     "output_type": "error",
     "traceback": [
      "\u001b[91mNo applicable_loaders found for UNKNOWN\u001b[39m",
      "",
      "Stacktrace:",
      " [1] error(::String) at .\\error.jl:33",
      " [2] applicable_loaders at C:\\Users\\progr\\.julia\\packages\\FileIO\\0RlLC\\src\\loadsave.jl:11 [inlined]",
      " [3] load(::String; options::Base.Iterators.Pairs{Union{},Union{},Tuple{},NamedTuple{(),Tuple{}}}) at C:\\Users\\progr\\.julia\\packages\\FileIO\\0RlLC\\src\\loadsave.jl:112",
      " [4] load(::String) at C:\\Users\\progr\\.julia\\packages\\FileIO\\0RlLC\\src\\loadsave.jl:110",
      " [5] top-level scope at In[3]:21",
      " [6] include_string(::Function, ::Module, ::String, ::String) at .\\loading.jl:1091"
     ]
    }
   ],
   "source": [
    "n = 500\n",
    "U = LinRange(-pi,pi,n)\n",
    "V = LinRange(-pi,pi,n)\n",
    "\n",
    "x = [2cos(u) +  cos(u) * cos(v) for u in U, v in V]\n",
    "y = [2sin(u) +  sin(u) * cos(v)      for u in U, v in V]\n",
    "z = [sin(v)                        for u in U, v in V]\n",
    "\n",
    "#pts = vec((x, y, z))\n",
    "#cont = counter-1\n",
    "\n",
    "\n",
    "for i in 201:376\n",
    "    \n",
    "    torus = load(\"C:/Users/progr/Pictures/Game of Life/Artsy/Pez/Pez_$(i).png\");\n",
    "    #sur_$(i) = surface(x, y, z, color = torus, transparency = false)\n",
    "    save(File{DataFormat{:PNG}}(\"C:/Users/progr/Pictures/Game of Life/Artsy/Pez/Pez_T$(i).png\"), \n",
    "        surface(x, y, z, color = torus, transparency = false))\n",
    "end \n",
    "\n",
    "\n",
    " #FUNCIONA!!!!!!!!!!!!!\n",
    "#No imprimir demasiados (mas de 200) porque se traba"
   ]
  },
  {
   "cell_type": "code",
   "execution_count": 62,
   "id": "treated-inflation",
   "metadata": {},
   "outputs": [],
   "source": [
    "#caso particular\n",
    "\n",
    "#=\n",
    "n = 512\n",
    "U = LinRange(-pi,pi,n)\n",
    "V = LinRange(-pi,pi,n)\n",
    "\n",
    "x = [2cos(u) +  cos(u) * cos(v) for u in U, v in V]\n",
    "y = [2sin(u) +  sin(u) * cos(v)      for u in U, v in V]\n",
    "z = [sin(v)                        for u in U, v in V]\n",
    "\n",
    "rotate(2*pi)\n",
    "torus = load(\"C:/Users/progr/Pictures/Game of Life on a Torus/Random 1/R_$(1).png\")\n",
    "sur = surface(x, y, z, color = torus, transparency = false, grid = false, axes = false )\n",
    "=#\n"
   ]
  },
  {
   "cell_type": "code",
   "execution_count": null,
   "id": "dying-pollution",
   "metadata": {},
   "outputs": [],
   "source": []
  }
 ],
 "metadata": {
  "kernelspec": {
   "display_name": "Julia 1.5.3",
   "language": "julia",
   "name": "julia-1.5"
  },
  "language_info": {
   "file_extension": ".jl",
   "mimetype": "application/julia",
   "name": "julia",
   "version": "1.5.3"
  }
 },
 "nbformat": 4,
 "nbformat_minor": 5
}
